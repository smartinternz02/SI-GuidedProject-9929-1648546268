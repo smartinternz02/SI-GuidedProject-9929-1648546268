{
 "cells": [
  {
   "cell_type": "markdown",
   "id": "fb3610a2",
   "metadata": {},
   "source": [
    "# Image Augmentation"
   ]
  },
  {
   "cell_type": "code",
   "execution_count": 1,
   "id": "b7f95d6a",
   "metadata": {},
   "outputs": [],
   "source": [
    "from tensorflow.keras.preprocessing.image import ImageDataGenerator"
   ]
  },
  {
   "cell_type": "code",
   "execution_count": 2,
   "id": "0d1405d1",
   "metadata": {},
   "outputs": [],
   "source": [
    "train_datagen=ImageDataGenerator(rescale=1/255,zoom_range=0.2,horizontal_flip=True,vertical_flip=False)"
   ]
  },
  {
   "cell_type": "code",
   "execution_count": 3,
   "id": "70d51179",
   "metadata": {},
   "outputs": [],
   "source": [
    "test_datagen=ImageDataGenerator(rescale=1/255)"
   ]
  },
  {
   "cell_type": "code",
   "execution_count": 26,
   "id": "425d451a",
   "metadata": {},
   "outputs": [
    {
     "name": "stdout",
     "output_type": "stream",
     "text": [
      "Found 1238 images belonging to 4 classes.\n"
     ]
    }
   ],
   "source": [
    "x_train=train_datagen.flow_from_directory(r'D:\\SmartInternz Externship\\CNN_Dataset\\CNN_Dataset\\Training',target_size=(64,64),\n",
    "                                         class_mode='categorical',batch_size=100)"
   ]
  },
  {
   "cell_type": "code",
   "execution_count": 5,
   "id": "0eec4859",
   "metadata": {},
   "outputs": [
    {
     "data": {
      "text/plain": [
       "39"
      ]
     },
     "execution_count": 5,
     "metadata": {},
     "output_type": "execute_result"
    }
   ],
   "source": [
    "len(x_train)"
   ]
  },
  {
   "cell_type": "code",
   "execution_count": 27,
   "id": "12ef7f54",
   "metadata": {},
   "outputs": [
    {
     "name": "stdout",
     "output_type": "stream",
     "text": [
      "Found 326 images belonging to 4 classes.\n"
     ]
    }
   ],
   "source": [
    "x_test=test_datagen.flow_from_directory(r'D:\\SmartInternz Externship\\CNN_Dataset\\CNN_Dataset\\Testing',target_size=(64,64),\n",
    "                                         class_mode='categorical',batch_size=100)"
   ]
  },
  {
   "cell_type": "code",
   "execution_count": 7,
   "id": "7c930ba2",
   "metadata": {},
   "outputs": [
    {
     "data": {
      "text/plain": [
       "{'bears': 0, 'crows': 1, 'elephants': 2, 'rats': 3}"
      ]
     },
     "execution_count": 7,
     "metadata": {},
     "output_type": "execute_result"
    }
   ],
   "source": [
    "x_train.class_indices"
   ]
  },
  {
   "cell_type": "markdown",
   "id": "4fa86b35",
   "metadata": {},
   "source": [
    "# Import Libraries"
   ]
  },
  {
   "cell_type": "code",
   "execution_count": 12,
   "id": "f397e3d1",
   "metadata": {},
   "outputs": [],
   "source": [
    "from tensorflow.keras.models import Sequential\n",
    "from tensorflow.keras.layers import Convolution2D,MaxPooling2D,Flatten,Dense"
   ]
  },
  {
   "cell_type": "markdown",
   "id": "e5303c07",
   "metadata": {},
   "source": [
    "# Create the Model"
   ]
  },
  {
   "cell_type": "code",
   "execution_count": 13,
   "id": "de7fdb06",
   "metadata": {},
   "outputs": [],
   "source": [
    "model=Sequential()"
   ]
  },
  {
   "cell_type": "markdown",
   "id": "c4ae6c03",
   "metadata": {},
   "source": [
    "# Add Layers"
   ]
  },
  {
   "cell_type": "code",
   "execution_count": 14,
   "id": "74bc2fba",
   "metadata": {},
   "outputs": [],
   "source": [
    "model.add(Convolution2D(32,(3,3),activation='relu',input_shape=(64,64,3)))"
   ]
  },
  {
   "cell_type": "code",
   "execution_count": 15,
   "id": "2751c29d",
   "metadata": {},
   "outputs": [],
   "source": [
    "model.add(MaxPooling2D(pool_size=(2,2)))"
   ]
  },
  {
   "cell_type": "code",
   "execution_count": 16,
   "id": "f774583d",
   "metadata": {},
   "outputs": [],
   "source": [
    "model.add(Flatten())"
   ]
  },
  {
   "cell_type": "code",
   "execution_count": 17,
   "id": "45a4779d",
   "metadata": {},
   "outputs": [],
   "source": [
    "model.add(Dense(300,activation='relu'))"
   ]
  },
  {
   "cell_type": "code",
   "execution_count": 18,
   "id": "e3f280b1",
   "metadata": {},
   "outputs": [],
   "source": [
    "model.add(Dense(150,activation='relu'))"
   ]
  },
  {
   "cell_type": "code",
   "execution_count": 21,
   "id": "dd39e3f4",
   "metadata": {},
   "outputs": [],
   "source": [
    "model.add(Dense(4,activation='softmax'))"
   ]
  },
  {
   "cell_type": "markdown",
   "id": "386ba7bb",
   "metadata": {},
   "source": [
    "# Compile the model"
   ]
  },
  {
   "cell_type": "code",
   "execution_count": 23,
   "id": "352a425e",
   "metadata": {},
   "outputs": [],
   "source": [
    "model.compile(loss='categorical_crossentropy',optimizer='adam',metrics=['accuracy'])"
   ]
  },
  {
   "cell_type": "markdown",
   "id": "9736da55",
   "metadata": {},
   "source": [
    "# Fit the model"
   ]
  },
  {
   "cell_type": "code",
   "execution_count": 28,
   "id": "7c25aa9f",
   "metadata": {},
   "outputs": [
    {
     "name": "stdout",
     "output_type": "stream",
     "text": [
      "Epoch 1/10\n",
      "13/13 [==============================] - 14s 1s/step - loss: 0.2215 - accuracy: 0.9225 - val_loss: 0.1625 - val_accuracy: 0.9509\n",
      "Epoch 2/10\n",
      "13/13 [==============================] - 13s 1s/step - loss: 0.2082 - accuracy: 0.9241 - val_loss: 0.2176 - val_accuracy: 0.9294\n",
      "Epoch 3/10\n",
      "13/13 [==============================] - 13s 981ms/step - loss: 0.1949 - accuracy: 0.9321 - val_loss: 0.1508 - val_accuracy: 0.9448\n",
      "Epoch 4/10\n",
      "13/13 [==============================] - 13s 1s/step - loss: 0.1800 - accuracy: 0.9378 - val_loss: 0.1363 - val_accuracy: 0.9571\n",
      "Epoch 5/10\n",
      "13/13 [==============================] - 13s 1s/step - loss: 0.1588 - accuracy: 0.9418 - val_loss: 0.1135 - val_accuracy: 0.9693\n",
      "Epoch 6/10\n",
      "13/13 [==============================] - 13s 969ms/step - loss: 0.1541 - accuracy: 0.9483 - val_loss: 0.0685 - val_accuracy: 0.9847\n",
      "Epoch 7/10\n",
      "13/13 [==============================] - 13s 1s/step - loss: 0.1346 - accuracy: 0.9580 - val_loss: 0.0720 - val_accuracy: 0.9755\n",
      "Epoch 8/10\n",
      "13/13 [==============================] - 13s 994ms/step - loss: 0.1288 - accuracy: 0.9556 - val_loss: 0.0579 - val_accuracy: 0.9785\n",
      "Epoch 9/10\n",
      "13/13 [==============================] - 13s 949ms/step - loss: 0.1112 - accuracy: 0.9653 - val_loss: 0.0713 - val_accuracy: 0.9693\n",
      "Epoch 10/10\n",
      "13/13 [==============================] - 13s 1s/step - loss: 0.1034 - accuracy: 0.9677 - val_loss: 0.0549 - val_accuracy: 0.9877\n"
     ]
    },
    {
     "data": {
      "text/plain": [
       "<tensorflow.python.keras.callbacks.History at 0x20558801f10>"
      ]
     },
     "execution_count": 28,
     "metadata": {},
     "output_type": "execute_result"
    }
   ],
   "source": [
    "model.fit_generator(x_train,steps_per_epoch=len(x_train),epochs=10,validation_data=x_test,validation_steps=len(x_test))"
   ]
  },
  {
   "cell_type": "markdown",
   "id": "26f75410",
   "metadata": {},
   "source": [
    "# Save the Model"
   ]
  },
  {
   "cell_type": "code",
   "execution_count": 29,
   "id": "1cd279ec",
   "metadata": {},
   "outputs": [],
   "source": [
    "model.save('animal.h5')"
   ]
  },
  {
   "cell_type": "markdown",
   "id": "51637b52",
   "metadata": {},
   "source": [
    "# Testing the CNN Model"
   ]
  },
  {
   "cell_type": "code",
   "execution_count": 31,
   "id": "5474cbb5",
   "metadata": {},
   "outputs": [],
   "source": [
    "import numpy as np\n",
    "from tensorflow.keras.models import load_model\n",
    "from tensorflow.keras.preprocessing import image"
   ]
  },
  {
   "cell_type": "code",
   "execution_count": 32,
   "id": "291e43f9",
   "metadata": {},
   "outputs": [],
   "source": [
    "model=load_model('animal.h5')\n",
    "img=image.load_img(r'D:\\SmartInternz Externship\\CNN_Dataset\\CNN_Dataset\\Testing\\bears\\k4 (75).jpg',target_size=(64,64))"
   ]
  },
  {
   "cell_type": "code",
   "execution_count": 33,
   "id": "937fec55",
   "metadata": {},
   "outputs": [
    {
     "data": {
      "image/png": "[encoded data removed]",
      "text/plain": [
       "<PIL.Image.Image image mode=RGB size=64x64 at 0x20558D7C6D0>"
      ]
     },
     "execution_count": 33,
     "metadata": {},
     "output_type": "execute_result"
    }
   ],
   "source": [
    "img"
   ]
  },
  {
   "cell_type": "code",
   "execution_count": 34,
   "id": "66b8868d",
   "metadata": {},
   "outputs": [],
   "source": [
    "x=image.img_to_array(img)"
   ]
  },
  {
   "cell_type": "code",
   "execution_count": 35,
   "id": "844965bf",
   "metadata": {},
   "outputs": [
    {
     "data": {
      "text/plain": [
       "array([[[117., 139.,  90.],\n",
       "        [117., 140.,  88.],\n",
       "        [113., 136.,  82.],\n",
       "        ...,\n",
       "        [140., 159., 103.],\n",
       "        [139., 158., 103.],\n",
       "        [145., 168., 116.]],\n",
       "\n",
       "       [[118., 140.,  91.],\n",
       "        [119., 142.,  90.],\n",
       "        [109., 132.,  78.],\n",
       "        ...,\n",
       "        [140., 159., 103.],\n",
       "        [132., 151.,  96.],\n",
       "        [141., 164., 110.]],\n",
       "\n",
       "       [[121., 144.,  92.],\n",
       "        [121., 144.,  90.],\n",
       "        [102., 125.,  69.],\n",
       "        ...,\n",
       "        [150., 170., 111.],\n",
       "        [132., 151.,  95.],\n",
       "        [147., 170., 114.]],\n",
       "\n",
       "       ...,\n",
       "\n",
       "       [[121., 140.,  59.],\n",
       "        [121., 140.,  59.],\n",
       "        [119., 138.,  57.],\n",
       "        ...,\n",
       "        [137., 159.,  74.],\n",
       "        [146., 166.,  79.],\n",
       "        [144., 160.,  72.]],\n",
       "\n",
       "       [[120., 138.,  56.],\n",
       "        [123., 141.,  59.],\n",
       "        [126., 144.,  62.],\n",
       "        ...,\n",
       "        [139., 160.,  67.],\n",
       "        [143., 163.,  68.],\n",
       "        [151., 166.,  71.]],\n",
       "\n",
       "       [[131., 149.,  67.],\n",
       "        [138., 156.,  74.],\n",
       "        [131., 149.,  67.],\n",
       "        ...,\n",
       "        [142., 160.,  61.],\n",
       "        [145., 163.,  63.],\n",
       "        [148., 163.,  60.]]], dtype=float32)"
      ]
     },
     "execution_count": 35,
     "metadata": {},
     "output_type": "execute_result"
    }
   ],
   "source": [
    "x"
   ]
  },
  {
   "cell_type": "code",
   "execution_count": 36,
   "id": "ea2c4ad5",
   "metadata": {},
   "outputs": [
    {
     "data": {
      "text/plain": [
       "3"
      ]
     },
     "execution_count": 36,
     "metadata": {},
     "output_type": "execute_result"
    }
   ],
   "source": [
    "x.ndim"
   ]
  },
  {
   "cell_type": "code",
   "execution_count": 37,
   "id": "9cc212cd",
   "metadata": {},
   "outputs": [],
   "source": [
    "x=np.expand_dims(x,axis=0)"
   ]
  },
  {
   "cell_type": "code",
   "execution_count": 38,
   "id": "9a6cf875",
   "metadata": {},
   "outputs": [
    {
     "data": {
      "text/plain": [
       "array([[[[117., 139.,  90.],\n",
       "         [117., 140.,  88.],\n",
       "         [113., 136.,  82.],\n",
       "         ...,\n",
       "         [140., 159., 103.],\n",
       "         [139., 158., 103.],\n",
       "         [145., 168., 116.]],\n",
       "\n",
       "        [[118., 140.,  91.],\n",
       "         [119., 142.,  90.],\n",
       "         [109., 132.,  78.],\n",
       "         ...,\n",
       "         [140., 159., 103.],\n",
       "         [132., 151.,  96.],\n",
       "         [141., 164., 110.]],\n",
       "\n",
       "        [[121., 144.,  92.],\n",
       "         [121., 144.,  90.],\n",
       "         [102., 125.,  69.],\n",
       "         ...,\n",
       "         [150., 170., 111.],\n",
       "         [132., 151.,  95.],\n",
       "         [147., 170., 114.]],\n",
       "\n",
       "        ...,\n",
       "\n",
       "        [[121., 140.,  59.],\n",
       "         [121., 140.,  59.],\n",
       "         [119., 138.,  57.],\n",
       "         ...,\n",
       "         [137., 159.,  74.],\n",
       "         [146., 166.,  79.],\n",
       "         [144., 160.,  72.]],\n",
       "\n",
       "        [[120., 138.,  56.],\n",
       "         [123., 141.,  59.],\n",
       "         [126., 144.,  62.],\n",
       "         ...,\n",
       "         [139., 160.,  67.],\n",
       "         [143., 163.,  68.],\n",
       "         [151., 166.,  71.]],\n",
       "\n",
       "        [[131., 149.,  67.],\n",
       "         [138., 156.,  74.],\n",
       "         [131., 149.,  67.],\n",
       "         ...,\n",
       "         [142., 160.,  61.],\n",
       "         [145., 163.,  63.],\n",
       "         [148., 163.,  60.]]]], dtype=float32)"
      ]
     },
     "execution_count": 38,
     "metadata": {},
     "output_type": "execute_result"
    }
   ],
   "source": [
    "x"
   ]
  },
  {
   "cell_type": "code",
   "execution_count": 39,
   "id": "800b52d9",
   "metadata": {},
   "outputs": [
    {
     "data": {
      "text/plain": [
       "4"
      ]
     },
     "execution_count": 39,
     "metadata": {},
     "output_type": "execute_result"
    }
   ],
   "source": [
    "x.ndim"
   ]
  },
  {
   "cell_type": "code",
   "execution_count": 50,
   "id": "fd20dcd3",
   "metadata": {},
   "outputs": [],
   "source": [
    "pred=model.predict_classes(x)"
   ]
  },
  {
   "cell_type": "code",
   "execution_count": 44,
   "id": "2d16dc29",
   "metadata": {},
   "outputs": [
    {
     "data": {
      "text/plain": [
       "array([0], dtype=int64)"
      ]
     },
     "execution_count": 44,
     "metadata": {},
     "output_type": "execute_result"
    }
   ],
   "source": [
    "pred"
   ]
  },
  {
   "cell_type": "code",
   "execution_count": 55,
   "id": "366e7651",
   "metadata": {},
   "outputs": [
    {
     "ename": "SyntaxError",
     "evalue": "invalid syntax (Temp/ipykernel_19972/874679997.py, line 1)",
     "output_type": "error",
     "traceback": [
      "\u001b[1;36m  File \u001b[1;32m\"C:\\Users\\LENOVO\\AppData\\Local\\Temp/ipykernel_19972/874679997.py\"\u001b[1;36m, line \u001b[1;32m1\u001b[0m\n\u001b[1;33m    bears': 0, 'crows': 1, 'elephants': 2, 'rats': 3\u001b[0m\n\u001b[1;37m         ^\u001b[0m\n\u001b[1;31mSyntaxError\u001b[0m\u001b[1;31m:\u001b[0m invalid syntax\n"
     ]
    }
   ],
   "source": [
    "bears': 0, 'crows': 1, 'elephants': 2, 'rats': 3"
   ]
  },
  {
   "cell_type": "code",
   "execution_count": 54,
   "id": "56fa1a89",
   "metadata": {},
   "outputs": [
    {
     "name": "stdout",
     "output_type": "stream",
     "text": [
      "bears\n"
     ]
    }
   ],
   "source": [
    "index=['bears','crows','elephants','rats']\n",
    "print(index[pred[0]])"
   ]
  },
  {
   "cell_type": "markdown",
   "id": "e26175e3",
   "metadata": {},
   "source": [
    "# CNN Video Analysis"
   ]
  },
  {
   "cell_type": "code",
   "execution_count": null,
   "id": "7440f61b",
   "metadata": {},
   "outputs": [],
   "source": [
    "import cv2"
   ]
  },
  {
   "cell_type": "code",
   "execution_count": null,
   "id": "451f44ec",
   "metadata": {},
   "outputs": [],
   "source": [
    "img=cv2.imread(r'D:\\SmartInternz Externship\\CNN_Dataset\\CNN_Dataset\\Testing\\bears\\k4 (75).jpg',1)"
   ]
  },
  {
   "cell_type": "code",
   "execution_count": null,
   "id": "9c3208b7",
   "metadata": {},
   "outputs": [],
   "source": [
    "img"
   ]
  },
  {
   "cell_type": "code",
   "execution_count": null,
   "id": "bc3e1f07",
   "metadata": {},
   "outputs": [],
   "source": [
    "img1=cv2.imread(r'D:\\SmartInternz Externship\\CNN_Dataset\\CNN_Dataset\\Testing\\bears\\k4 (75).jpg',0)"
   ]
  },
  {
   "cell_type": "code",
   "execution_count": null,
   "id": "7fb79aad",
   "metadata": {},
   "outputs": [],
   "source": [
    "img1"
   ]
  },
  {
   "cell_type": "code",
   "execution_count": null,
   "id": "6cd0ec5b",
   "metadata": {},
   "outputs": [],
   "source": [
    "print(img.shape)"
   ]
  },
  {
   "cell_type": "code",
   "execution_count": null,
   "id": "5a22f08e",
   "metadata": {},
   "outputs": [],
   "source": [
    "img=cv2.imread(r'D:\\SmartInternz Externship\\CNN_Dataset\\CNN_Dataset\\Testing\\bears\\k4 (75).jpg',1)\n",
    "cv2.imshow('image',img)\n",
    "cv2.waitkey(0)\n",
    "cv2.destroyAllWindows()"
   ]
  },
  {
   "cell_type": "markdown",
   "id": "a4498bc4",
   "metadata": {},
   "source": [
    "# CNN Video Analysis"
   ]
  },
  {
   "cell_type": "code",
   "execution_count": null,
   "id": "d4da7d82",
   "metadata": {},
   "outputs": [],
   "source": [
    "import cv2\n",
    "import numpy as np\n",
    "from tensorflow.keras.models import load_model\n",
    "from tensorflow.keras.preprocessing import image\n",
    "model=load_model('animal.h5')\n",
    "video=cv2.VideoCapture(0)\n",
    "index=['bears','crows','elephants','rats']\n",
    "while 1:\n",
    "    succes,frame=video.read()\n",
    "    cv2.imwrite('image.jpg'.frame)\n",
    "    img-image.load_img('image.jpg',target_size=(64,64))\n",
    "    x=image.img_ti_array(img)\n",
    "    x=np.expand_dims(x,axis=0)\n",
    "    pred=model.predict_classes(x)\n",
    "    y=pred[0]\n",
    "    cv2.putText(frame,'The Predcted Animal is: '+str(index[y]),(100,100),cv2.FONT_HERSHEY_SIMPLEX,1,(0,0,0),4)\n",
    "    cv2.imshow('image',frame)\n",
    "    if cv2.waitKey(1) & 0xFF == ord('q'):\n",
    "        break\n",
    "video.release()\n",
    "cv2.destroyAllWindows()"
   ]
  }
 ],
 "metadata": {
  "kernelspec": {
   "display_name": "Python 3 (ipykernel)",
   "language": "python",
   "name": "python3"
  },
  "language_info": {
   "codemirror_mode": {
    "name": "ipython",
    "version": 3
   },
   "file_extension": ".py",
   "mimetype": "text/x-python",
   "name": "python",
   "nbconvert_exporter": "python",
   "pygments_lexer": "ipython3",
   "version": "3.9.7"
  }
 },
 "nbformat": 4,
 "nbformat_minor": 5
}
